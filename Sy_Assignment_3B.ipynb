{
 "cells": [
  {
   "cell_type": "markdown",
   "metadata": {},
   "source": [
    "# ITMGT 25.03 EE\n",
    "# Assignment 3B\n",
    "\n",
    "This is a data-cleaning assignment and is the second of two parts. This notebook is uploaded to our Github repository along with a csv of fake, dirty data called **recweekdata.csv**.\n",
    "\n",
    "In addition, you have a new file called **studentprofiles.csv** which has first and last names plus the genders of the students.\n",
    "\n",
    "The output of this assignment is to convert recweekdata.csv into processable data for statistics. Submit the following files through GitHub:\n",
    "1. A cleaned recweekdata.csv called **cleanrecweekdata3b.csv** **(5 points)**\n",
    "2. This notebook, containing the code (properly commented) that you used to clean the data **(5 points)**\n",
    "3. An html file of summary statistics from each column called **stats3b.html**. The requirements for the summary statistics are described below. **(10 points)**\n",
    "\n",
    "The outputs are similar to that of Assignment 3A, except that you will now use Pandas instead of Python lists.\n",
    "\n",
    "This entire assignment (3B) is worth 20 points.\n",
    "\n",
    "Upload your output files to your Github repositories. Make sure to send an email to **joben.ilagan@gmail.com** once you're done.\n",
    "\n",
    "This assignment is due on **Monday, July 9, 2019** at 12:00NN.\n",
    "\n",
    "Note: I understand you all need to review for LT 2. Think of this Assignment as practice. It's not meant to take you as long as 3A.\n",
    "\n",
    "#### Bonus Points:\n",
    "* +2 if submitted over (or before) the weekend (July 13-14)\n",
    "* +2 if CSS and div tags are used (but please don't spend too much time on this because you still need to review for the Long Test)"
   ]
  },
  {
   "cell_type": "code",
   "execution_count": 1,
   "metadata": {},
   "outputs": [],
   "source": [
    "import pandas as pd\n",
    "import numpy as np\n",
    "import re \n",
    "\n",
    "recweek_data = pd.read_csv(\"recweekdata.csv\")"
   ]
  },
  {
   "cell_type": "code",
   "execution_count": 2,
   "metadata": {},
   "outputs": [],
   "source": [
    "student_profile = pd.read_csv(\"studentprofiles.csv\")"
   ]
  },
  {
   "cell_type": "code",
   "execution_count": 3,
   "metadata": {},
   "outputs": [],
   "source": [
    "student_data = pd.merge(recweek_data,student_profile)"
   ]
  },
  {
   "cell_type": "code",
   "execution_count": 4,
   "metadata": {},
   "outputs": [],
   "source": [
    "#Phone Number\n",
    "student_data.loc[:,\"phonenumber\"] = student_data.loc[:,\"phonenumber\"].replace(\"^9\",\"+63 9\", regex = True)\n",
    "\n",
    "#Birth Month \n",
    "student_data.loc[:,\"birthmonth\"] = student_data.loc[:,\"birthmonth\"].replace(\"^Nov\",\"11\",regex=True,)\n",
    "student_data.loc[:,\"birthmonth\"] = student_data.loc[:,\"birthmonth\"].replace(\"11\",\"November\", regex = True)\n",
    "student_data.loc[:,\"birthmonth\"] = student_data.loc[:,\"birthmonth\"].replace(\"^Novemberember\",\"November\", regex = True)\n",
    "\n",
    "student_data.loc[:,\"birthmonth\"] = student_data.loc[:,\"birthmonth\"].replace(\"Oct\",\"10\", regex=True,)\n",
    "student_data.loc[:,\"birthmonth\"] = student_data.loc[:,\"birthmonth\"].replace(\"10\",\"October\", regex = True)\n",
    "student_data.loc[:,\"birthmonth\"] = student_data.loc[:,\"birthmonth\"].replace(\"Octoberober\",\"October\", regex = True)\n",
    "\n",
    "student_data.loc[:,\"birthmonth\"] = student_data.loc[:,\"birthmonth\"].replace(\"Dec\",\"12\", regex=True,)\n",
    "student_data.loc[:,\"birthmonth\"] = student_data.loc[:,\"birthmonth\"].replace(\"12\",\"December\", regex = True)\n",
    "student_data.loc[:,\"birthmonth\"] = student_data.loc[:,\"birthmonth\"].replace(\"Decemberember\",\"December\", regex = True)\n",
    "\n",
    "student_data.loc[:,\"birthmonth\"] = student_data.loc[:,\"birthmonth\"].replace(\"Sep\",\"9\", regex=True,)\n",
    "student_data.loc[:,\"birthmonth\"] = student_data.loc[:,\"birthmonth\"].replace(\"9\",\"September\", regex = True)\n",
    "student_data.loc[:,\"birthmonth\"] = student_data.loc[:,\"birthmonth\"].replace(\"Septembertember\",\"September\", regex = True)\n",
    "\n",
    "student_data.loc[:,\"birthmonth\"] = student_data.loc[:,\"birthmonth\"].replace(\"Jan\",\"1\", regex=True,)\n",
    "student_data.loc[:,\"birthmonth\"] = student_data.loc[:,\"birthmonth\"].replace(\"1\",\"January\", regex = True)\n",
    "student_data.loc[:,\"birthmonth\"] = student_data.loc[:,\"birthmonth\"].replace(\"Januaryuary\",\"January\", regex = True)\n",
    "\n",
    "student_data.loc[:,\"birthmonth\"] = student_data.loc[:,\"birthmonth\"].replace(\"Feb\",\"2\", regex=True,)\n",
    "student_data.loc[:,\"birthmonth\"] = student_data.loc[:,\"birthmonth\"].replace(\"2\",\"February\", regex = True)\n",
    "student_data.loc[:,\"birthmonth\"] = student_data.loc[:,\"birthmonth\"].replace(\"Februaryruary\",\"February\", regex = True)\n",
    "\n",
    "student_data.loc[:,\"birthmonth\"] = student_data.loc[:,\"birthmonth\"].replace(\"Feb\",\"2\", regex=True,)\n",
    "student_data.loc[:,\"birthmonth\"] = student_data.loc[:,\"birthmonth\"].replace(\"2\",\"February\", regex = True)\n",
    "student_data.loc[:,\"birthmonth\"] = student_data.loc[:,\"birthmonth\"].replace(\"Februaryruary\",\"February\", regex = True)\n",
    "\n",
    "student_data.loc[:,\"birthmonth\"] = student_data.loc[:,\"birthmonth\"].replace(\"Mar\",\"3\", regex=True,)\n",
    "student_data.loc[:,\"birthmonth\"] = student_data.loc[:,\"birthmonth\"].replace(\"3\",\"March\", regex = True)\n",
    "student_data.loc[:,\"birthmonth\"] = student_data.loc[:,\"birthmonth\"].replace(\"Marchch\",\"March\", regex = True)\n",
    "\n",
    "student_data.loc[:,\"birthmonth\"] = student_data.loc[:,\"birthmonth\"].replace(\"Apr\",\"4\", regex=True,)\n",
    "student_data.loc[:,\"birthmonth\"] = student_data.loc[:,\"birthmonth\"].replace(\"4\",\"April\", regex = True)\n",
    "student_data.loc[:,\"birthmonth\"] = student_data.loc[:,\"birthmonth\"].replace(\"Aprilil\",\"April\", regex = True)\n",
    "\n",
    "student_data.loc[:,\"birthmonth\"] = student_data.loc[:,\"birthmonth\"].replace(\"5\",\"May\", regex=True,)\n",
    "\n",
    "student_data.loc[:,\"birthmonth\"] = student_data.loc[:,\"birthmonth\"].replace(\"Jun\",\"6\", regex=True,)\n",
    "student_data.loc[:,\"birthmonth\"] = student_data.loc[:,\"birthmonth\"].replace(\"6\",\"June\", regex = True)\n",
    "student_data.loc[:,\"birthmonth\"] = student_data.loc[:,\"birthmonth\"].replace(\"Junee\",\"June\", regex = True)\n",
    "\n",
    "student_data.loc[:,\"birthmonth\"] = student_data.loc[:,\"birthmonth\"].replace(\"Jul\",\"7\", regex=True,)\n",
    "student_data.loc[:,\"birthmonth\"] = student_data.loc[:,\"birthmonth\"].replace(\"7\",\"July\", regex = True)\n",
    "student_data.loc[:,\"birthmonth\"] = student_data.loc[:,\"birthmonth\"].replace(\"Julyy\",\"July\", regex = True)\n",
    "\n",
    "student_data.loc[:,\"birthmonth\"] = student_data.loc[:,\"birthmonth\"].replace(\"Aug\",\"8\", regex=True,)\n",
    "student_data.loc[:,\"birthmonth\"] = student_data.loc[:,\"birthmonth\"].replace(\"8\",\"August\", regex = True)\n",
    "student_data.loc[:,\"birthmonth\"] = student_data.loc[:,\"birthmonth\"].replace(\"Augustust\",\"August\", regex = True)\n",
    "\n",
    "#Birthyear\n",
    "student_data.loc[:,\"birthyear\"] = student_data.loc[:,\"birthyear\"].astype(str).replace(\"^97\",\"1997\", regex = True)\n",
    "student_data.loc[:,\"birthyear\"] = student_data.loc[:,\"birthyear\"].astype(str).replace(\"^98\",\"1998\", regex = True)\n",
    "student_data.loc[:,\"birthyear\"] = student_data.loc[:,\"birthyear\"].astype(str).replace(\"^99\",\"1999\", regex = True)\n",
    "student_data.loc[:,\"birthyear\"] = student_data.loc[:,\"birthyear\"].astype(str).replace(\"^00\",\"2000\", regex = True)\n",
    "student_data.loc[:,\"birthyear\"] = student_data.loc[:,\"birthyear\"].astype(str).replace(\"^01\",\"2001\", regex = True)\n",
    "\n",
    "# Course\n",
    "student_data.loc[:,\"course\"] = student_data.loc[:,\"course\"].replace(\"^ITE\",\"BS ITE\", regex = True)\n",
    "student_data.loc[:,\"course\"] = student_data.loc[:,\"course\"].replace(\"Information Technology Entrepreneurship\",\"BS ITE\", regex = True)\n",
    "\n",
    "student_data.loc[:,\"course\"] = student_data.loc[:,\"course\"].replace(\"^CTM\",\"BS CTM\", regex = True)\n",
    "student_data.loc[:,\"course\"] = student_data.loc[:,\"course\"].replace(\"Communications Technology\",\"BS CTM\", regex = True)\n",
    "\n",
    "student_data.loc[:,\"course\"] = student_data.loc[:,\"course\"].replace(\"^LM\",\"BS LM\", regex = True)\n",
    "student_data.loc[:,\"course\"] = student_data.loc[:,\"course\"].replace(\"Legal Management\",\"BS LM\", regex = True)\n",
    "\n",
    "student_data.loc[:,\"course\"] = student_data.loc[:,\"course\"].replace(\"^ME\",\"BS ME\", regex = True)\n",
    "student_data.loc[:,\"course\"] = student_data.loc[:,\"course\"].replace(\"^Management Engineering\",\"BS ME\", regex = True)\n",
    "                                                                    \n",
    "student_data.loc[:,\"course\"] = student_data.loc[:,\"course\"].replace(\"^MGT\",\"BS MGT\", regex = True)\n",
    "student_data.loc[:,\"course\"] = student_data.loc[:,\"course\"].replace(\"^Management\",\"BS MGT\", regex = True)\n",
    "\n",
    "#Carrier\n",
    "carrier = {\"+63 917\":\"Globe\",\"+63 918\":\"Smart\", \"+63 927\":\"Globe\"}\n",
    "student_data[\"carrier\"] = student_data.loc[:,\"phonenumber\"].str[0:7].apply(lambda x: carrier[x])"
   ]
  },
  {
   "cell_type": "code",
   "execution_count": 5,
   "metadata": {},
   "outputs": [],
   "source": [
    "#export dataframe (student_data) to csv file\n",
    "student_data.to_csv(\"cleanrecweekdata3b.csv\")"
   ]
  },
  {
   "cell_type": "markdown",
   "metadata": {},
   "source": [
    "# Required Summary Statistics\n",
    "\n",
    "#### These were the questions from 3A:\n",
    "\n",
    "1. How many people were born in each month?\n",
    "2. How many people were born on each day?\n",
    "3. How many people were born in each year?\n",
    "4. How many people come from each course?\n",
    "5. How many people have numbers from Globe (0917 or 0927) and Smart (0918)? *Note: it's up to you how to format this output*\n",
    "\n",
    "#### Additional Questions:\n",
    "* How many Globe subscribers are: Male? Female?\n",
    "* How many Smart subscribers are: Male? Female?\n",
    "\n",
    "Answer these questions in an html file called **stats3b.html**. The format of the html is as follows (in template form, so you can use this as format string in your program, though feel free to modify with variable names if you find it easier to do so):\n"
   ]
  },
  {
   "cell_type": "markdown",
   "metadata": {},
   "source": [
    "# Stats Answer"
   ]
  },
  {
   "cell_type": "code",
   "execution_count": 6,
   "metadata": {},
   "outputs": [
    {
     "data": {
      "text/plain": [
       "birthmonth\n",
       "April        267\n",
       "August       241\n",
       "December     276\n",
       "February     232\n",
       "January      270\n",
       "July         249\n",
       "June         259\n",
       "March        246\n",
       "May          273\n",
       "November     277\n",
       "October      178\n",
       "September    232\n",
       "Name: firstname, dtype: int64"
      ]
     },
     "execution_count": 6,
     "metadata": {},
     "output_type": "execute_result"
    }
   ],
   "source": [
    "student_data.groupby([\"birthmonth\"])['firstname'].count()"
   ]
  },
  {
   "cell_type": "code",
   "execution_count": 7,
   "metadata": {},
   "outputs": [
    {
     "data": {
      "text/plain": [
       "birthday\n",
       "1     112\n",
       "2     106\n",
       "3      90\n",
       "4     110\n",
       "5     100\n",
       "6      99\n",
       "7      88\n",
       "8     111\n",
       "9      98\n",
       "10    111\n",
       "11    105\n",
       "12     98\n",
       "13    119\n",
       "14    102\n",
       "15    121\n",
       "16    115\n",
       "17    116\n",
       "18    107\n",
       "19    113\n",
       "20     91\n",
       "21    123\n",
       "22    103\n",
       "23    116\n",
       "24    108\n",
       "25    116\n",
       "26    116\n",
       "27    102\n",
       "28    104\n",
       "Name: firstname, dtype: int64"
      ]
     },
     "execution_count": 7,
     "metadata": {},
     "output_type": "execute_result"
    }
   ],
   "source": [
    "student_data.groupby([\"birthday\"])['firstname'].count()"
   ]
  },
  {
   "cell_type": "code",
   "execution_count": 8,
   "metadata": {},
   "outputs": [
    {
     "data": {
      "text/plain": [
       "course\n",
       "BS CTM    589\n",
       "BS ITE    590\n",
       "BS LM     585\n",
       "BS ME     607\n",
       "BS MGT    629\n",
       "Name: firstname, dtype: int64"
      ]
     },
     "execution_count": 8,
     "metadata": {},
     "output_type": "execute_result"
    }
   ],
   "source": [
    "student_data.groupby([\"course\"])['firstname'].count()"
   ]
  },
  {
   "cell_type": "code",
   "execution_count": 9,
   "metadata": {},
   "outputs": [
    {
     "data": {
      "text/plain": [
       "carrier\n",
       "Globe    2045\n",
       "Smart     955\n",
       "Name: firstname, dtype: int64"
      ]
     },
     "execution_count": 9,
     "metadata": {},
     "output_type": "execute_result"
    }
   ],
   "source": [
    "student_data.groupby([\"carrier\"])['firstname'].count()"
   ]
  },
  {
   "cell_type": "code",
   "execution_count": 10,
   "metadata": {},
   "outputs": [
    {
     "data": {
      "text/plain": [
       "birthyear\n",
       "1997    756\n",
       "1998    746\n",
       "1999    756\n",
       "2000    380\n",
       "2001    362\n",
       "Name: firstname, dtype: int64"
      ]
     },
     "execution_count": 10,
     "metadata": {},
     "output_type": "execute_result"
    }
   ],
   "source": [
    "student_data.groupby([\"birthyear\"])['firstname'].count()"
   ]
  },
  {
   "cell_type": "code",
   "execution_count": 11,
   "metadata": {},
   "outputs": [
    {
     "data": {
      "text/plain": [
       "carrier  gender\n",
       "Globe    Female     984\n",
       "         Male      1061\n",
       "Smart    Female     494\n",
       "         Male       461\n",
       "Name: firstname, dtype: int64"
      ]
     },
     "execution_count": 11,
     "metadata": {},
     "output_type": "execute_result"
    }
   ],
   "source": [
    "student_data.groupby([\"carrier\",\"gender\"])['firstname'].count()"
   ]
  },
  {
   "cell_type": "markdown",
   "metadata": {},
   "source": [
    "# HTML"
   ]
  },
  {
   "cell_type": "code",
   "execution_count": 12,
   "metadata": {},
   "outputs": [],
   "source": [
    "birthmonth_dict = student_data[\"birthmonth\"].value_counts().to_dict()\n",
    "birthyear_dict = student_data[\"birthyear\"].value_counts().to_dict()\n",
    "birthday_dict = student_data[\"birthday\"].value_counts().to_dict()\n",
    "course_dict = student_data[\"course\"].value_counts().to_dict()\n",
    "carrier_dict = student_data[\"carrier\"].value_counts().to_dict()"
   ]
  },
  {
   "cell_type": "code",
   "execution_count": 13,
   "metadata": {},
   "outputs": [],
   "source": [
    "# Birthmonth Sorter\n",
    "birthmonth_dict_sorted = {'January':0,'February':0,'March':0,'April':0,'May':0,'June':0,'July':0,'August':0,'September':0,'October':0,'November':0,'December':0}\n",
    "months = ['January','February','March','April','May','June','July','August','September','October','November','December']\n",
    "\n",
    "for i in range(len(months)):\n",
    "    birthmonth_dict_sorted.update({months[i]:birthmonth_dict[months[i]]})"
   ]
  },
  {
   "cell_type": "code",
   "execution_count": 14,
   "metadata": {},
   "outputs": [],
   "source": [
    "# Birthday Sorter\n",
    "birthday_dict_sorted = {}\n",
    "for i in range(1,29):\n",
    "    birthday_dict_sorted.update({'Day '+ str(i):birthday_dict[i]})"
   ]
  },
  {
   "cell_type": "code",
   "execution_count": 15,
   "metadata": {},
   "outputs": [],
   "source": [
    "# Birthyear Sorter\n",
    "birthyear_dict_sorted = {'1997':0,'1998':0,'1999':0,'2000':0,'2001':0}\n",
    "year = ['1997','1998','1999','2000','2001']\n",
    "for i in range(len(year)):\n",
    "    birthyear_dict_sorted.update({year[i]:birthyear_dict[year[i]]})"
   ]
  },
  {
   "cell_type": "code",
   "execution_count": 16,
   "metadata": {},
   "outputs": [],
   "source": [
    "# User\n",
    "globe_male_data = student_data.groupby([\"carrier\",\"gender\"])['firstname'].count()[('Globe','Male')]\n",
    "globe_female_data = student_data.groupby([\"carrier\",\"gender\"])['firstname'].count()[('Globe','Female')]\n",
    "smart_male_data = student_data.groupby([\"carrier\",\"gender\"])['firstname'].count()[('Smart','Male')]\n",
    "smart_female_data = student_data.groupby([\"carrier\",\"gender\"])['firstname'].count()[('Smart','Female')]\n",
    "\n",
    "user_gender_breakdown =  {}\n",
    "\n",
    "user_gender_breakdown[\"Male Globe User\"] = globe_male_data\n",
    "user_gender_breakdown[\"Female Globe User\"] = globe_female_data\n",
    "user_gender_breakdown[\"Male Smart User\"] = smart_male_data\n",
    "user_gender_breakdown[\"Female Smart User\"] = smart_female_data "
   ]
  },
  {
   "cell_type": "code",
   "execution_count": 17,
   "metadata": {},
   "outputs": [
    {
     "data": {
      "text/plain": [
       "{'Male Globe User': 1061,\n",
       " 'Female Globe User': 984,\n",
       " 'Male Smart User': 461,\n",
       " 'Female Smart User': 494}"
      ]
     },
     "execution_count": 17,
     "metadata": {},
     "output_type": "execute_result"
    }
   ],
   "source": [
    "user_gender_breakdown"
   ]
  },
  {
   "cell_type": "code",
   "execution_count": 18,
   "metadata": {},
   "outputs": [
    {
     "name": "stdout",
     "output_type": "stream",
     "text": [
      "Male Globe User\n",
      "Female Globe User\n",
      "Male Smart User\n",
      "Female Smart User\n"
     ]
    }
   ],
   "source": [
    "for i in user_gender_breakdown:\n",
    "    print(i)"
   ]
  },
  {
   "cell_type": "code",
   "execution_count": 19,
   "metadata": {},
   "outputs": [],
   "source": [
    "birthmonth_header_html = \"\"\"\"\"\"\n",
    "for i in birthmonth_dict_sorted:\n",
    "    birthmonth_header_html += \"\"\"<th>\"\"\" + str(i) + \"\"\"</th>\"\"\"\n",
    "\n",
    "birthday_header_html = \"\"\"\"\"\"\n",
    "for i in birthday_dict_sorted:\n",
    "    birthday_header_html += \"\"\"<th>\"\"\" + str(i) + \"\"\"</th>\\n\"\"\"\n",
    "    \n",
    "birthyear_header_html = \"\"\"\"\"\"\n",
    "for i in birthyear_dict_sorted:\n",
    "    birthyear_header_html += \"\"\"<th>\"\"\" + str(i) + \"\"\"</th>\\n\"\"\"\n",
    "\n",
    "course_header_html = \"\"\"\"\"\"\n",
    "for i in course_dict:\n",
    "    course_header_html += \"\"\"<th>\"\"\" + str(i) + \"\"\"</th>\\n\"\"\"\n",
    "\n",
    "carrier_header_html = \"\"\"\"\"\"\n",
    "for i in carrier_dict:\n",
    "    carrier_header_html += \"\"\"<th>\"\"\" + str(i) + \"\"\"</th>\\n\"\"\"\n",
    "\n",
    "ugbreak_header_html = \"\"\"\"\"\"\n",
    "for i in user_gender_breakdown:\n",
    "    ugbreak_header_html += \"\"\"<th>\"\"\" + str(i) + \"\"\"</th>\\n\"\"\"\n",
    "\n",
    "#-----------------------------------------------------------------\n",
    "\n",
    "birthmonth_data_html =\"\"\"\"\"\"\n",
    "for i in birthmonth_dict_sorted:\n",
    "    birthmonth_data_html += \"<td>\" + str(birthmonth_dict_sorted[i]) +\"</td>\"\n",
    "\n",
    "birthday_data_html =\"\"\"\"\"\"\n",
    "for i in birthday_dict_sorted:\n",
    "    birthday_data_html += \"\"\"<td>\"\"\" + str(birthday_dict_sorted[i]) +\"\"\"</td>\\n\"\"\"\n",
    "\n",
    "birthyear_data_html =\"\"\"\"\"\"\n",
    "for i in birthyear_dict_sorted:\n",
    "    birthyear_data_html += \"\"\"<td>\"\"\" + str(birthyear_dict_sorted[i]) +\"\"\"</td>\\n\"\"\"\n",
    "\n",
    "course_data_html =\"\"\"\"\"\"\n",
    "for i in course_dict:\n",
    "    course_data_html += \"\"\"<td>\"\"\" + str(course_dict[i]) +\"\"\"</td>\\n\"\"\"\n",
    "\n",
    "carrier_data_html =\"\"\"\"\"\"\n",
    "for i in carrier_dict:\n",
    "    carrier_data_html += \"\"\"<td>\"\"\" + str(carrier_dict[i]) +\"\"\"</td>\\n\"\"\"\n",
    "\n",
    "ugbreak_data_html =\"\"\"\"\"\"\n",
    "for i in user_gender_breakdown:\n",
    "    ugbreak_data_html += \"\"\"<td>\"\"\" + str(user_gender_breakdown[i]) +\"\"\"</td>\\n\"\"\""
   ]
  },
  {
   "cell_type": "code",
   "execution_count": 20,
   "metadata": {},
   "outputs": [],
   "source": [
    "from IPython.core.display import HTML\n",
    "\n",
    "stats3b = \"\"\"\n",
    "<html>\n",
    "<style>\n",
    "table,th,td {{\n",
    "    border:1px solid black;\n",
    "    border-collapse:collapse;\n",
    "}}\n",
    "\n",
    "th {{\n",
    "    color:green;\n",
    "}}\n",
    "\n",
    "td {{\n",
    "    text-align:center;\n",
    "}}\n",
    "</style>\n",
    "    <body style=\"background-color:lightgrey;\">\n",
    "        <h1 style=\"color:blue\">Statistics Summary </h1>\n",
    "        \n",
    "\n",
    "        <table style = width:100%>\n",
    "            <caption>People Born Each Month</caption>\n",
    "                <tr>\n",
    "                    {birthmonth_header_html}\n",
    "                </tr>\n",
    "                <tr>\n",
    "                    {birthmonth_data_html}\n",
    "                </tr>\n",
    "        </table>\n",
    "        <p>\n",
    "        </p>\n",
    "        \n",
    "        <table style = width:100%>\n",
    "            <caption>People Born Each Day</caption>\n",
    "                <tr>\n",
    "                    {birthday_header_html}\n",
    "                </tr>\n",
    "                <tr>\n",
    "                    {birthday_data_html}\n",
    "                </tr>\n",
    "        </table>\n",
    "        <p>\n",
    "        </p>\n",
    "        \n",
    "        <table style = width:100%>\n",
    "            <caption>People Born Each Year</caption>\n",
    "                <tr>\n",
    "                {birthyear_header_html}\n",
    "                </tr>\n",
    "                <tr>\n",
    "                {birthyear_data_html}\n",
    "                </tr>\n",
    "        </table>\n",
    "        <p>\n",
    "        </p>\n",
    "        \n",
    "        <table style = width:100%>\n",
    "            <caption>Courses of People</caption>\n",
    "                <tr>\n",
    "                {course_header_html}\n",
    "                </tr>\n",
    "                <tr>\n",
    "                {course_data_html}\n",
    "                </tr>\n",
    "        </table>\n",
    "        <p>\n",
    "        </p>\n",
    "        \n",
    "        <table style = width:100%>\n",
    "            <caption>Telecommunications Provider of People</caption>\n",
    "                <tr>\n",
    "                {carrier_header_html}\n",
    "                </tr>\n",
    "                <tr>\n",
    "                {carrier_data_html}\n",
    "                </tr>\n",
    "        </table>\n",
    "        <p>\n",
    "        </p>\n",
    "        <table style = width:100%>\n",
    "            <caption>Telecommunications Service Provider User-Gender Breakdown</caption>\n",
    "                <tr>\n",
    "                {ugbreak_header_html}\n",
    "                </tr>\n",
    "                <tr>\n",
    "                {ugbreak_data_html}\n",
    "                </tr>\n",
    "        </table>\n",
    "    </body>\n",
    "\n",
    "</html>\n",
    "\"\"\"\n",
    "\n",
    "\n",
    "with open('stats3b.html',\"w+\") as stats_file:\n",
    "    stats_file.write(stats3b.format(birthmonth_header_html=birthmonth_header_html,\n",
    "                                    birthmonth_data_html=birthmonth_data_html,\n",
    "                                    birthyear_header_html=birthyear_header_html,\n",
    "                                    birthyear_data_html=birthyear_data_html,\n",
    "                                    birthday_data_html=birthday_data_html,\n",
    "                                    birthday_header_html=birthday_header_html,\n",
    "                                    carrier_data_html=carrier_data_html,\n",
    "                                    carrier_header_html=carrier_header_html,\n",
    "                                    ugbreak_header_html=ugbreak_header_html,\n",
    "                                    ugbreak_data_html=ugbreak_data_html,\n",
    "                                    course_header_html=course_header_html,\n",
    "                                    course_data_html=course_data_html))\n"
   ]
  },
  {
   "cell_type": "markdown",
   "metadata": {},
   "source": [
    "```\n",
    "<html>\n",
    "    <body>\n",
    "         <h2>Summary Statistics</h2>\n",
    "         <table>\n",
    "             <tr><th>Stat</th><th>Value</th></tr>\n",
    "             <tr><td>People born in each month</td><td>{}</td></tr>\n",
    "             <tr><td>People born on each day</td><td>{}</td></tr>\n",
    "             <tr><td>People born in each year</td><td>{}</td></tr>\n",
    "             <tr><td>People coming from each course</td><td>{}</td></tr>\n",
    "             <tr><td>People having numbers from Globe and Smart</td><td>{}</td></tr>\n",
    "             <tr><td>Male Globe subscribers:</td><td>{}</td></tr>\n",
    "             <tr><td>Female Globe subscribers:</td><td>{}</td></tr>\n",
    "             <tr><td>Male Smart subscribers:</td><td>{}</td></tr>\n",
    "             <tr><td>Female Smart subscribers:</td><td>{}</td></tr>\n",
    "         </table>\n",
    "    </body>\n",
    "</html>\n",
    "```"
   ]
  },
  {
   "cell_type": "code",
   "execution_count": null,
   "metadata": {},
   "outputs": [],
   "source": []
  }
 ],
 "metadata": {
  "kernelspec": {
   "display_name": "Python 3",
   "language": "python",
   "name": "python3"
  },
  "language_info": {
   "codemirror_mode": {
    "name": "ipython",
    "version": 3
   },
   "file_extension": ".py",
   "mimetype": "text/x-python",
   "name": "python",
   "nbconvert_exporter": "python",
   "pygments_lexer": "ipython3",
   "version": "3.7.3"
  }
 },
 "nbformat": 4,
 "nbformat_minor": 2
}
